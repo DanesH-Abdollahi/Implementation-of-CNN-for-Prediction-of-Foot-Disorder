{
  "cells": [
    {
      "cell_type": "code",
      "execution_count": null,
      "metadata": {
        "id": "t16Vv-8hm84u",
        "outputId": "d4c26295-6903-4ff4-8d72-49b0b09c5c85",
        "colab": {
          "base_uri": "https://localhost:8080/"
        }
      },
      "outputs": [
        {
          "output_type": "stream",
          "name": "stdout",
          "text": [
            "Drive already mounted at /content/drive; to attempt to forcibly remount, call drive.mount(\"/content/drive\", force_remount=True).\n"
          ]
        }
      ],
      "source": [
        "import tensorflow as tf\n",
        "import cv2\n",
        "import matplotlib.pyplot as plt\n",
        "import numpy as np\n",
        "import os\n",
        "from sklearn.metrics import confusion_matrix , ConfusionMatrixDisplay \n",
        "from tensorflow.keras.layers import Dense, Input, Conv2D, Flatten, Dropout , MaxPooling2D , AveragePooling2D\n",
        "from tensorflow.keras.models import Model\n",
        "from sklearn.utils import shuffle\n",
        "from tensorflow.keras.optimizers import SGD \n",
        "from sklearn.model_selection import train_test_split\n",
        "from google.colab import drive\n",
        "drive.mount('/content/drive')"
      ]
    },
    {
      "cell_type": "code",
      "execution_count": null,
      "metadata": {
        "colab": {
          "base_uri": "https://localhost:8080/"
        },
        "id": "4n13kZBQtXjI",
        "outputId": "b8f9d487-307b-455a-b383-85e10d9ddad0"
      },
      "outputs": [
        {
          "output_type": "stream",
          "name": "stdout",
          "text": [
            "Max Height is  298\n"
          ]
        }
      ],
      "source": [
        "# Calculating Maximum Height Of Images \n",
        "path = '/content/drive/MyDrive/Main_No/'\n",
        "files = os.listdir(path)\n",
        "image_width = []\n",
        "for image_name in files:\n",
        "    image = cv2.imread(f'{path}{image_name}' , 0)\n",
        "    image_width.append( image.shape[0] )\n",
        "#----------------------------------------------------------------------------------  \n",
        "path = '/content/drive/MyDrive/Main_Yes/'\n",
        "files = os.listdir(path)\n",
        "for image_name in files:\n",
        "    image = cv2.imread(f'{path}{image_name}' , 0)\n",
        "    image_width.append( image.shape[0] )\n",
        "    \n",
        "Max_Height = max(image_width)\n",
        "print('Max Height is ',Max_Height)"
      ]
    },
    {
      "cell_type": "code",
      "execution_count": null,
      "metadata": {
        "id": "OgbIfBqSwOPh"
      },
      "outputs": [],
      "source": [
        "# Reshape All Images To Same Size\n",
        "# No_Images\n",
        "path = '/content/drive/MyDrive/Main_No/'\n",
        "files = os.listdir(path)\n",
        "image_width = []\n",
        "No_Inputs = []\n",
        "No_Labels = []\n",
        "\n",
        "for Img in files:\n",
        "    image = cv2.imread(f'{path}{Img}' , 0)\n",
        "    Delta_Height = Max_Height - image.shape[0]\n",
        "    if Delta_Height % 2 == 0 : \n",
        "      Up_Lines = Down_Line = int( Delta_Height  / 2 ) \n",
        "    else:\n",
        "      Up_Lines = int( Delta_Height  // 2 )\n",
        "      Down_Line = int( Up_Lines + 1 )\n",
        "\n",
        "    resized_image = np.concatenate( ( image, np.zeros((Down_Line, 100)) ) , axis=0)\n",
        "    resized_image = np.concatenate( ( np.zeros((Up_Lines, 100)) , resized_image ) , axis=0)\n",
        "    No_Inputs.append(resized_image)\n",
        "    No_Labels.append(0)\n",
        "\n",
        "    cv2.imwrite(f'/content/drive/MyDrive/No/{Img}.png', resized_image)\n",
        "\n",
        "No_Inputs = np.array(No_Inputs)\n",
        "No_Labels = np.array(No_Labels)\n",
        "#----------------------------------------------------------------------------------\n",
        "# Yes_Images\n",
        "path = '/content/drive/MyDrive/Main_Yes/'\n",
        "files = os.listdir(path)\n",
        "Yes_Inputs = []\n",
        "Yes_Labels = []\n",
        "\n",
        "for Img in files:\n",
        "    image = cv2.imread(f'{path}{Img}' , 0)\n",
        "    Delta_Height = Max_Height - image.shape[0]\n",
        "\n",
        "    if Delta_Height % 2 == 0 : \n",
        "      Up_Lines = Down_Line = int( Delta_Height  / 2 ) \n",
        "    else:\n",
        "      Up_Lines = int( Delta_Height  // 2 )\n",
        "      Down_Line = int( Up_Lines + 1 )\n",
        "    \n",
        "    resized_image = np.concatenate( ( image, np.zeros((Down_Line, 100)) ) , axis=0)\n",
        "    resized_image = np.concatenate( ( np.zeros((Up_Lines, 100)) , resized_image ) , axis=0)\n",
        "    Yes_Inputs.append(resized_image)\n",
        "    Yes_Labels.append(1)\n",
        "\n",
        "    cv2.imwrite(f'/content/drive/MyDrive/Yes/{Img}.png', resized_image)\n",
        "\n",
        "Yes_Inputs = np.array(Yes_Inputs)\n",
        "Yes_Labels = np.array(Yes_Labels)\n",
        "\n",
        "Inputs = np.concatenate( ( No_Inputs , Yes_Inputs ) , axis=0)\n",
        "Labels = np.concatenate( ( No_Labels , Yes_Labels ) , axis=0)\n"
      ]
    },
    {
      "cell_type": "code",
      "execution_count": null,
      "metadata": {
        "colab": {
          "base_uri": "https://localhost:8080/"
        },
        "id": "SGEmSCXpEZLm",
        "outputId": "6320b424-c2bf-4903-aa1b-3eb38bb4932a"
      },
      "outputs": [
        {
          "output_type": "stream",
          "name": "stdout",
          "text": [
            "Number of Yes Inputs = 56\n",
            "Number of Yes Inputs = 215\n",
            "-----------------------------------------------------------\n",
            "New Number of Yes Inputs = 168\n",
            "New Number of Yes Inputs = 215\n"
          ]
        },
        {
          "output_type": "execute_result",
          "data": {
            "text/plain": [
              "array([1, 1, 0, 0, 0, 1, 0, 0, 1, 1, 1, 1, 0, 1, 0, 0, 1, 1, 1, 0, 0, 0,\n",
              "       1, 0, 0, 1, 0, 0, 1, 0, 1, 1, 0, 0, 0, 0, 0, 1, 0, 1, 0, 0, 0, 0,\n",
              "       0, 0, 0, 0, 0, 0, 1, 0, 0, 0, 0, 0, 1, 0, 0, 1, 0, 1, 1, 1, 1, 0,\n",
              "       0, 0, 0, 1, 1, 1, 1, 0, 1, 0, 0, 0, 1, 0, 0, 0, 0, 1, 1, 1, 0, 1,\n",
              "       0, 0, 1, 0, 0, 0, 0, 1, 0, 0, 1, 0, 0, 1, 1, 0, 0, 0, 1, 1, 1, 0,\n",
              "       0, 1, 1, 1, 0, 1, 0, 1, 1, 0, 0, 0, 0, 0, 1, 0, 0, 0, 1, 0, 1, 1,\n",
              "       1, 1, 1, 0, 0, 0, 1, 1, 0, 0, 1, 1, 0, 0, 0, 1, 0, 1, 0, 0, 1, 0,\n",
              "       0, 0, 1, 1, 0, 1, 1, 1, 0, 1, 0, 0, 0, 1, 1, 1, 0, 0, 0, 0, 0, 0,\n",
              "       1, 0, 0, 0, 0, 1, 1, 1, 1, 0, 1, 0, 1, 0, 0, 1, 1, 0, 1, 0, 0, 1,\n",
              "       1, 1, 0, 0, 0, 1, 0, 1, 0, 1, 1, 0, 1, 0, 0, 1, 0, 0, 1, 1, 1, 1,\n",
              "       0, 0, 1, 0, 0, 0, 1, 1, 1, 1, 1, 0, 0, 0, 0, 1, 0, 0, 0, 0, 1, 1,\n",
              "       0, 0, 1, 1, 1, 1, 1, 1, 1, 0, 1, 1, 0, 1, 1, 0, 1, 0, 0, 0, 1, 1,\n",
              "       0, 1, 1, 0, 0, 1, 1, 0, 0, 1, 0, 0, 0, 0, 0, 1, 1, 0, 1, 0, 1, 0,\n",
              "       0, 0, 0, 1, 0, 1, 0, 1, 0, 0, 1, 1, 0, 1, 1, 1, 0, 0, 1, 0, 0, 1,\n",
              "       0, 0, 0, 1, 1, 0, 1, 0, 0, 0, 1, 0, 1, 0, 0, 1, 0, 0, 0, 0, 0, 0,\n",
              "       1, 1, 0, 0, 0, 0, 0, 1, 1, 0, 0, 1, 1, 0, 1, 0, 1, 0, 0, 1, 1, 0,\n",
              "       1, 1, 0, 1, 1, 1, 0, 1, 1, 0, 1, 0, 0, 1, 0, 1, 1, 0, 0, 1, 1, 0,\n",
              "       0, 1, 1, 0, 0, 0, 0, 0, 0])"
            ]
          },
          "metadata": {},
          "execution_count": 49
        }
      ],
      "source": [
        "# Up Sampling\n",
        "Yes_Inputs_Num = Yes_Labels.shape[0]\n",
        "No_Inputs_Num = No_Inputs.shape[0]\n",
        "print(f\"Number of Yes Inputs = {Yes_Inputs_Num}\")\n",
        "print(f\"Number of Yes Inputs = {No_Inputs_Num}\")\n",
        "\n",
        "for _ in range(2) :\n",
        "  Inputs = np.concatenate( ( Yes_Inputs , Inputs ) , axis=0)\n",
        "  Labels = np.concatenate( ( Yes_Labels , Labels ) , axis=0)\n",
        "\n",
        "#Inputs = np.concatenate( ( Inputs , Yes_Inputs ) , axis=0)\n",
        "#Labels = np.concatenate( ( Labels , Yes_Labels ) , axis=0)\n",
        "\n",
        "print(\"-----------------------------------------------------------\")\n",
        "print(f\"New Number of Yes Inputs = {Labels.sum()}\")\n",
        "print(f\"New Number of Yes Inputs = {No_Inputs_Num}\")\n",
        "\n",
        "for _ in range(15):\n",
        "  Labels = shuffle( Labels, random_state = 23 )\n",
        "  Inputs = shuffle( Inputs, random_state = 23 )\n",
        "\n",
        "Labels"
      ]
    },
    {
      "cell_type": "code",
      "execution_count": null,
      "metadata": {
        "id": "9pxOqZ1VnATg"
      },
      "outputs": [],
      "source": [
        "def Base_Model(inputs) :\n",
        "    x = Conv2D(64, (3,3), activation = 'relu', padding='SAME')(inputs)\n",
        "    x = MaxPooling2D((3,3))(x)\n",
        "    x = Conv2D(32, (3,3), activation = 'relu')(x)\n",
        "    x = MaxPooling2D((3,3),padding='SAME')(x)\n",
        "    x = Conv2D(16, (3,3), activation = 'relu', padding='SAME')(x)\n",
        "    x = MaxPooling2D((3,3))(x)\n",
        "    x = Flatten()(x)\n",
        "    return x"
      ]
    },
    {
      "cell_type": "code",
      "execution_count": null,
      "metadata": {
        "id": "dZIoBRognCEk"
      },
      "outputs": [],
      "source": [
        "def Final_Model(inputs):\n",
        "    x = Base_Model(inputs)\n",
        "    Output = Dense(1, activation = 'sigmoid')(x)\n",
        "    model = Model(inputs, Output)\n",
        "    return model"
      ]
    },
    {
      "cell_type": "code",
      "execution_count": null,
      "metadata": {
        "id": "FCAXPbYHnKwG",
        "colab": {
          "base_uri": "https://localhost:8080/"
        },
        "outputId": "54668da1-e9c8-4522-81a3-5ea9348d0389"
      },
      "outputs": [
        {
          "output_type": "stream",
          "name": "stdout",
          "text": [
            "Model: \"model_4\"\n",
            "_________________________________________________________________\n",
            " Layer (type)                Output Shape              Param #   \n",
            "=================================================================\n",
            " input_5 (InputLayer)        [(None, 298, 100, 1)]     0         \n",
            "                                                                 \n",
            " conv2d_12 (Conv2D)          (None, 298, 100, 64)      640       \n",
            "                                                                 \n",
            " max_pooling2d_12 (MaxPoolin  (None, 99, 33, 64)       0         \n",
            " g2D)                                                            \n",
            "                                                                 \n",
            " conv2d_13 (Conv2D)          (None, 97, 31, 32)        18464     \n",
            "                                                                 \n",
            " max_pooling2d_13 (MaxPoolin  (None, 33, 11, 32)       0         \n",
            " g2D)                                                            \n",
            "                                                                 \n",
            " conv2d_14 (Conv2D)          (None, 33, 11, 16)        4624      \n",
            "                                                                 \n",
            " max_pooling2d_14 (MaxPoolin  (None, 11, 3, 16)        0         \n",
            " g2D)                                                            \n",
            "                                                                 \n",
            " flatten_4 (Flatten)         (None, 528)               0         \n",
            "                                                                 \n",
            " dense_6 (Dense)             (None, 1)                 529       \n",
            "                                                                 \n",
            "=================================================================\n",
            "Total params: 24,257\n",
            "Trainable params: 24,257\n",
            "Non-trainable params: 0\n",
            "_________________________________________________________________\n"
          ]
        }
      ],
      "source": [
        "inputs = Input(shape = (Max_Height, 100, 1))\n",
        "My_Model = Final_Model(inputs) \n",
        "My_Model.summary()"
      ]
    },
    {
      "cell_type": "code",
      "execution_count": null,
      "metadata": {
        "id": "6R41xiicnS3B"
      },
      "outputs": [],
      "source": [
        "opt = SGD(learning_rate = 0.001, momentum = 0.9 )\n",
        "My_Model.compile(optimizer = opt , loss = 'binary_crossentropy' , metrics=[\"accuracy\", tf.keras.metrics.Recall()])"
      ]
    },
    {
      "cell_type": "code",
      "execution_count": null,
      "metadata": {
        "colab": {
          "base_uri": "https://localhost:8080/",
          "height": 1000
        },
        "id": "zXKItIoooFI-",
        "outputId": "023d0665-d860-4493-a78f-ddace531e35a"
      },
      "outputs": [
        {
          "output_type": "stream",
          "name": "stdout",
          "text": [
            "Epoch 1/100\n",
            "10/10 [==============================] - 2s 110ms/step - loss: 0.5055 - accuracy: 0.8693 - recall_7: 0.8592 - val_loss: 0.5332 - val_accuracy: 0.7792 - val_recall_7: 0.8462\n",
            "Epoch 2/100\n",
            "10/10 [==============================] - 1s 63ms/step - loss: 0.4729 - accuracy: 0.8105 - recall_7: 0.7676 - val_loss: 0.9236 - val_accuracy: 0.6623 - val_recall_7: 0.8077\n",
            "Epoch 3/100\n",
            "10/10 [==============================] - 1s 62ms/step - loss: 0.5154 - accuracy: 0.7778 - recall_7: 0.6901 - val_loss: 0.8414 - val_accuracy: 0.6883 - val_recall_7: 1.0000\n",
            "Epoch 4/100\n",
            "10/10 [==============================] - 1s 60ms/step - loss: 0.4091 - accuracy: 0.8301 - recall_7: 0.9225 - val_loss: 0.5076 - val_accuracy: 0.7532 - val_recall_7: 0.6538\n",
            "Epoch 5/100\n",
            "10/10 [==============================] - 1s 63ms/step - loss: 0.3324 - accuracy: 0.8529 - recall_7: 0.7606 - val_loss: 0.4695 - val_accuracy: 0.7792 - val_recall_7: 0.7308\n",
            "Epoch 6/100\n",
            "10/10 [==============================] - 1s 62ms/step - loss: 0.2565 - accuracy: 0.9052 - recall_7: 0.8803 - val_loss: 0.4917 - val_accuracy: 0.7792 - val_recall_7: 0.7692\n",
            "Epoch 7/100\n",
            "10/10 [==============================] - 1s 62ms/step - loss: 0.2096 - accuracy: 0.9216 - recall_7: 0.8873 - val_loss: 0.5314 - val_accuracy: 0.7922 - val_recall_7: 0.8846\n",
            "Epoch 8/100\n",
            "10/10 [==============================] - 1s 61ms/step - loss: 0.1814 - accuracy: 0.9346 - recall_7: 0.9507 - val_loss: 0.4625 - val_accuracy: 0.8052 - val_recall_7: 0.8462\n",
            "Epoch 9/100\n",
            "10/10 [==============================] - 1s 63ms/step - loss: 0.1526 - accuracy: 0.9346 - recall_7: 0.9577 - val_loss: 0.3852 - val_accuracy: 0.8052 - val_recall_7: 0.7308\n",
            "Epoch 10/100\n",
            "10/10 [==============================] - 1s 70ms/step - loss: 0.1245 - accuracy: 0.9673 - recall_7: 0.9648 - val_loss: 0.5256 - val_accuracy: 0.7922 - val_recall_7: 0.9615\n",
            "Epoch 11/100\n",
            "10/10 [==============================] - 1s 63ms/step - loss: 0.1135 - accuracy: 0.9641 - recall_7: 0.9789 - val_loss: 0.3671 - val_accuracy: 0.8831 - val_recall_7: 0.9615\n",
            "Epoch 12/100\n",
            "10/10 [==============================] - 1s 62ms/step - loss: 0.1049 - accuracy: 0.9641 - recall_7: 0.9718 - val_loss: 0.5085 - val_accuracy: 0.7922 - val_recall_7: 0.9231\n",
            "Epoch 13/100\n",
            "10/10 [==============================] - 1s 59ms/step - loss: 0.0979 - accuracy: 0.9673 - recall_7: 0.9507 - val_loss: 0.6494 - val_accuracy: 0.7662 - val_recall_7: 0.9615\n",
            "Epoch 14/100\n",
            "10/10 [==============================] - 1s 66ms/step - loss: 0.0916 - accuracy: 0.9673 - recall_7: 0.9859 - val_loss: 0.3582 - val_accuracy: 0.8701 - val_recall_7: 0.8846\n",
            "Epoch 15/100\n",
            "10/10 [==============================] - 1s 58ms/step - loss: 0.0694 - accuracy: 0.9869 - recall_7: 0.9930 - val_loss: 0.4248 - val_accuracy: 0.8701 - val_recall_7: 1.0000\n",
            "Epoch 16/100\n",
            "10/10 [==============================] - 1s 63ms/step - loss: 0.0597 - accuracy: 0.9869 - recall_7: 0.9859 - val_loss: 0.4868 - val_accuracy: 0.8442 - val_recall_7: 0.9231\n",
            "Epoch 17/100\n",
            "10/10 [==============================] - 1s 64ms/step - loss: 0.0625 - accuracy: 0.9869 - recall_7: 0.9859 - val_loss: 0.4712 - val_accuracy: 0.8701 - val_recall_7: 1.0000\n",
            "Epoch 18/100\n",
            "10/10 [==============================] - 1s 72ms/step - loss: 0.0496 - accuracy: 0.9902 - recall_7: 0.9930 - val_loss: 0.3783 - val_accuracy: 0.8701 - val_recall_7: 0.9231\n",
            "Epoch 19/100\n",
            "10/10 [==============================] - 1s 62ms/step - loss: 0.0405 - accuracy: 0.9967 - recall_7: 1.0000 - val_loss: 0.4594 - val_accuracy: 0.8701 - val_recall_7: 1.0000\n",
            "Epoch 20/100\n",
            "10/10 [==============================] - 1s 61ms/step - loss: 0.0328 - accuracy: 0.9935 - recall_7: 1.0000 - val_loss: 0.3998 - val_accuracy: 0.9091 - val_recall_7: 1.0000\n",
            "Epoch 21/100\n",
            "10/10 [==============================] - 1s 60ms/step - loss: 0.0287 - accuracy: 0.9935 - recall_7: 0.9930 - val_loss: 0.4941 - val_accuracy: 0.8701 - val_recall_7: 1.0000\n",
            "Epoch 22/100\n",
            "10/10 [==============================] - 1s 60ms/step - loss: 0.0289 - accuracy: 0.9967 - recall_7: 1.0000 - val_loss: 0.4094 - val_accuracy: 0.9091 - val_recall_7: 1.0000\n",
            "Epoch 23/100\n",
            "10/10 [==============================] - 1s 61ms/step - loss: 0.0244 - accuracy: 0.9935 - recall_7: 1.0000 - val_loss: 0.4792 - val_accuracy: 0.8831 - val_recall_7: 1.0000\n",
            "Epoch 24/100\n",
            "10/10 [==============================] - 1s 61ms/step - loss: 0.0237 - accuracy: 0.9967 - recall_7: 1.0000 - val_loss: 0.4948 - val_accuracy: 0.8961 - val_recall_7: 1.0000\n",
            "Epoch 25/100\n",
            "10/10 [==============================] - 1s 71ms/step - loss: 0.0242 - accuracy: 0.9935 - recall_7: 0.9930 - val_loss: 0.4685 - val_accuracy: 0.8961 - val_recall_7: 1.0000\n",
            "Epoch 26/100\n",
            "10/10 [==============================] - 1s 61ms/step - loss: 0.0310 - accuracy: 0.9935 - recall_7: 1.0000 - val_loss: 0.5225 - val_accuracy: 0.8701 - val_recall_7: 1.0000\n",
            "Epoch 27/100\n",
            "10/10 [==============================] - 1s 69ms/step - loss: 0.0336 - accuracy: 0.9902 - recall_7: 0.9859 - val_loss: 0.5094 - val_accuracy: 0.8701 - val_recall_7: 0.9231\n",
            "Epoch 28/100\n",
            "10/10 [==============================] - 1s 62ms/step - loss: 0.0407 - accuracy: 0.9902 - recall_7: 1.0000 - val_loss: 0.4406 - val_accuracy: 0.8961 - val_recall_7: 1.0000\n",
            "Epoch 29/100\n",
            "10/10 [==============================] - 1s 70ms/step - loss: 0.0233 - accuracy: 0.9967 - recall_7: 1.0000 - val_loss: 0.5651 - val_accuracy: 0.8831 - val_recall_7: 1.0000\n",
            "Epoch 30/100\n",
            "10/10 [==============================] - 1s 61ms/step - loss: 0.0216 - accuracy: 0.9935 - recall_7: 1.0000 - val_loss: 0.5118 - val_accuracy: 0.8701 - val_recall_7: 1.0000\n",
            "Epoch 31/100\n",
            "10/10 [==============================] - 1s 60ms/step - loss: 0.0179 - accuracy: 1.0000 - recall_7: 1.0000 - val_loss: 0.6007 - val_accuracy: 0.8571 - val_recall_7: 1.0000\n",
            "Epoch 32/100\n",
            "10/10 [==============================] - 1s 63ms/step - loss: 0.0141 - accuracy: 1.0000 - recall_7: 1.0000 - val_loss: 0.5563 - val_accuracy: 0.8831 - val_recall_7: 1.0000\n",
            "Epoch 33/100\n",
            "10/10 [==============================] - 1s 60ms/step - loss: 0.0109 - accuracy: 1.0000 - recall_7: 1.0000 - val_loss: 0.5681 - val_accuracy: 0.8701 - val_recall_7: 1.0000\n",
            "Epoch 34/100\n",
            "10/10 [==============================] - 1s 68ms/step - loss: 0.0092 - accuracy: 1.0000 - recall_7: 1.0000 - val_loss: 0.5491 - val_accuracy: 0.8701 - val_recall_7: 1.0000\n",
            "Epoch 35/100\n",
            "10/10 [==============================] - 1s 63ms/step - loss: 0.0085 - accuracy: 1.0000 - recall_7: 1.0000 - val_loss: 0.5830 - val_accuracy: 0.8701 - val_recall_7: 1.0000\n",
            "Epoch 36/100\n",
            "10/10 [==============================] - 1s 59ms/step - loss: 0.0076 - accuracy: 1.0000 - recall_7: 1.0000 - val_loss: 0.5864 - val_accuracy: 0.8831 - val_recall_7: 1.0000\n",
            "Epoch 37/100\n",
            "10/10 [==============================] - 1s 63ms/step - loss: 0.0073 - accuracy: 1.0000 - recall_7: 1.0000 - val_loss: 0.5682 - val_accuracy: 0.8831 - val_recall_7: 1.0000\n",
            "Epoch 38/100\n",
            "10/10 [==============================] - 1s 61ms/step - loss: 0.0064 - accuracy: 1.0000 - recall_7: 1.0000 - val_loss: 0.6183 - val_accuracy: 0.8701 - val_recall_7: 1.0000\n",
            "Epoch 39/100\n",
            "10/10 [==============================] - 1s 65ms/step - loss: 0.0062 - accuracy: 1.0000 - recall_7: 1.0000 - val_loss: 0.6027 - val_accuracy: 0.8831 - val_recall_7: 1.0000\n",
            "Epoch 40/100\n",
            "10/10 [==============================] - 1s 67ms/step - loss: 0.0060 - accuracy: 1.0000 - recall_7: 1.0000 - val_loss: 0.6064 - val_accuracy: 0.8831 - val_recall_7: 1.0000\n",
            "Epoch 41/100\n",
            "10/10 [==============================] - 1s 62ms/step - loss: 0.0057 - accuracy: 1.0000 - recall_7: 1.0000 - val_loss: 0.6265 - val_accuracy: 0.8701 - val_recall_7: 1.0000\n",
            "Epoch 42/100\n",
            "10/10 [==============================] - 1s 59ms/step - loss: 0.0055 - accuracy: 1.0000 - recall_7: 1.0000 - val_loss: 0.6239 - val_accuracy: 0.8831 - val_recall_7: 1.0000\n",
            "Epoch 43/100\n",
            "10/10 [==============================] - 1s 62ms/step - loss: 0.0053 - accuracy: 1.0000 - recall_7: 1.0000 - val_loss: 0.6330 - val_accuracy: 0.8701 - val_recall_7: 1.0000\n",
            "Epoch 44/100\n",
            "10/10 [==============================] - 1s 63ms/step - loss: 0.0055 - accuracy: 1.0000 - recall_7: 1.0000 - val_loss: 0.6363 - val_accuracy: 0.8831 - val_recall_7: 1.0000\n",
            "Epoch 45/100\n",
            "10/10 [==============================] - 1s 62ms/step - loss: 0.0047 - accuracy: 1.0000 - recall_7: 1.0000 - val_loss: 0.6514 - val_accuracy: 0.8831 - val_recall_7: 1.0000\n",
            "Epoch 46/100\n",
            "10/10 [==============================] - 1s 70ms/step - loss: 0.0044 - accuracy: 1.0000 - recall_7: 1.0000 - val_loss: 0.6479 - val_accuracy: 0.8831 - val_recall_7: 1.0000\n",
            "Epoch 47/100\n",
            "10/10 [==============================] - 1s 69ms/step - loss: 0.0042 - accuracy: 1.0000 - recall_7: 1.0000 - val_loss: 0.6439 - val_accuracy: 0.8831 - val_recall_7: 1.0000\n",
            "Epoch 48/100\n",
            "10/10 [==============================] - 1s 64ms/step - loss: 0.0040 - accuracy: 1.0000 - recall_7: 1.0000 - val_loss: 0.6439 - val_accuracy: 0.8831 - val_recall_7: 1.0000\n",
            "Epoch 49/100\n",
            "10/10 [==============================] - 1s 63ms/step - loss: 0.0039 - accuracy: 1.0000 - recall_7: 1.0000 - val_loss: 0.6720 - val_accuracy: 0.8831 - val_recall_7: 1.0000\n",
            "Epoch 50/100\n",
            "10/10 [==============================] - 1s 61ms/step - loss: 0.0037 - accuracy: 1.0000 - recall_7: 1.0000 - val_loss: 0.6750 - val_accuracy: 0.8831 - val_recall_7: 1.0000\n",
            "Epoch 51/100\n",
            "10/10 [==============================] - 1s 70ms/step - loss: 0.0036 - accuracy: 1.0000 - recall_7: 1.0000 - val_loss: 0.6695 - val_accuracy: 0.8831 - val_recall_7: 1.0000\n",
            "Epoch 52/100\n",
            "10/10 [==============================] - 1s 63ms/step - loss: 0.0034 - accuracy: 1.0000 - recall_7: 1.0000 - val_loss: 0.6728 - val_accuracy: 0.8831 - val_recall_7: 1.0000\n",
            "Epoch 53/100\n",
            "10/10 [==============================] - 1s 62ms/step - loss: 0.0033 - accuracy: 1.0000 - recall_7: 1.0000 - val_loss: 0.6756 - val_accuracy: 0.8831 - val_recall_7: 1.0000\n",
            "Epoch 54/100\n",
            "10/10 [==============================] - 1s 62ms/step - loss: 0.0032 - accuracy: 1.0000 - recall_7: 1.0000 - val_loss: 0.6786 - val_accuracy: 0.8831 - val_recall_7: 1.0000\n",
            "Epoch 55/100\n",
            "10/10 [==============================] - 1s 62ms/step - loss: 0.0031 - accuracy: 1.0000 - recall_7: 1.0000 - val_loss: 0.6888 - val_accuracy: 0.8831 - val_recall_7: 1.0000\n",
            "Epoch 56/100\n",
            "10/10 [==============================] - 1s 68ms/step - loss: 0.0030 - accuracy: 1.0000 - recall_7: 1.0000 - val_loss: 0.6809 - val_accuracy: 0.8831 - val_recall_7: 1.0000\n",
            "Epoch 57/100\n",
            "10/10 [==============================] - 1s 61ms/step - loss: 0.0029 - accuracy: 1.0000 - recall_7: 1.0000 - val_loss: 0.6997 - val_accuracy: 0.8831 - val_recall_7: 1.0000\n",
            "Epoch 58/100\n",
            "10/10 [==============================] - 1s 63ms/step - loss: 0.0028 - accuracy: 1.0000 - recall_7: 1.0000 - val_loss: 0.6872 - val_accuracy: 0.8831 - val_recall_7: 1.0000\n",
            "Epoch 59/100\n",
            "10/10 [==============================] - 1s 63ms/step - loss: 0.0028 - accuracy: 1.0000 - recall_7: 1.0000 - val_loss: 0.7070 - val_accuracy: 0.8831 - val_recall_7: 1.0000\n",
            "Epoch 60/100\n",
            "10/10 [==============================] - 1s 62ms/step - loss: 0.0027 - accuracy: 1.0000 - recall_7: 1.0000 - val_loss: 0.6981 - val_accuracy: 0.8831 - val_recall_7: 1.0000\n",
            "Epoch 61/100\n",
            "10/10 [==============================] - 1s 68ms/step - loss: 0.0026 - accuracy: 1.0000 - recall_7: 1.0000 - val_loss: 0.7062 - val_accuracy: 0.8831 - val_recall_7: 1.0000\n",
            "Epoch 62/100\n",
            "10/10 [==============================] - 1s 62ms/step - loss: 0.0025 - accuracy: 1.0000 - recall_7: 1.0000 - val_loss: 0.7242 - val_accuracy: 0.8831 - val_recall_7: 1.0000\n",
            "Epoch 63/100\n",
            "10/10 [==============================] - 1s 59ms/step - loss: 0.0024 - accuracy: 1.0000 - recall_7: 1.0000 - val_loss: 0.7197 - val_accuracy: 0.8831 - val_recall_7: 1.0000\n",
            "Epoch 64/100\n",
            "10/10 [==============================] - 1s 63ms/step - loss: 0.0024 - accuracy: 1.0000 - recall_7: 1.0000 - val_loss: 0.7173 - val_accuracy: 0.8831 - val_recall_7: 1.0000\n",
            "Epoch 65/100\n",
            "10/10 [==============================] - 1s 61ms/step - loss: 0.0023 - accuracy: 1.0000 - recall_7: 1.0000 - val_loss: 0.7207 - val_accuracy: 0.8831 - val_recall_7: 1.0000\n",
            "Epoch 66/100\n",
            "10/10 [==============================] - 1s 68ms/step - loss: 0.0022 - accuracy: 1.0000 - recall_7: 1.0000 - val_loss: 0.7263 - val_accuracy: 0.8831 - val_recall_7: 1.0000\n",
            "Epoch 67/100\n",
            "10/10 [==============================] - 1s 62ms/step - loss: 0.0022 - accuracy: 1.0000 - recall_7: 1.0000 - val_loss: 0.7282 - val_accuracy: 0.8831 - val_recall_7: 1.0000\n",
            "Epoch 68/100\n",
            "10/10 [==============================] - 1s 61ms/step - loss: 0.0021 - accuracy: 1.0000 - recall_7: 1.0000 - val_loss: 0.7360 - val_accuracy: 0.8701 - val_recall_7: 1.0000\n",
            "Epoch 69/100\n",
            "10/10 [==============================] - 1s 63ms/step - loss: 0.0021 - accuracy: 1.0000 - recall_7: 1.0000 - val_loss: 0.7347 - val_accuracy: 0.8831 - val_recall_7: 1.0000\n",
            "Epoch 70/100\n",
            "10/10 [==============================] - 1s 60ms/step - loss: 0.0021 - accuracy: 1.0000 - recall_7: 1.0000 - val_loss: 0.7353 - val_accuracy: 0.8701 - val_recall_7: 1.0000\n",
            "Epoch 71/100\n",
            "10/10 [==============================] - 1s 62ms/step - loss: 0.0020 - accuracy: 1.0000 - recall_7: 1.0000 - val_loss: 0.7481 - val_accuracy: 0.8701 - val_recall_7: 1.0000\n",
            "Epoch 72/100\n",
            "10/10 [==============================] - 1s 63ms/step - loss: 0.0019 - accuracy: 1.0000 - recall_7: 1.0000 - val_loss: 0.7442 - val_accuracy: 0.8831 - val_recall_7: 1.0000\n",
            "Epoch 73/100\n",
            "10/10 [==============================] - 1s 72ms/step - loss: 0.0019 - accuracy: 1.0000 - recall_7: 1.0000 - val_loss: 0.7406 - val_accuracy: 0.8831 - val_recall_7: 1.0000\n",
            "Epoch 74/100\n",
            "10/10 [==============================] - 1s 59ms/step - loss: 0.0019 - accuracy: 1.0000 - recall_7: 1.0000 - val_loss: 0.7427 - val_accuracy: 0.8831 - val_recall_7: 1.0000\n",
            "Epoch 75/100\n",
            "10/10 [==============================] - 1s 62ms/step - loss: 0.0018 - accuracy: 1.0000 - recall_7: 1.0000 - val_loss: 0.7619 - val_accuracy: 0.8831 - val_recall_7: 1.0000\n",
            "Epoch 76/100\n",
            "10/10 [==============================] - 1s 61ms/step - loss: 0.0018 - accuracy: 1.0000 - recall_7: 1.0000 - val_loss: 0.7662 - val_accuracy: 0.8701 - val_recall_7: 1.0000\n",
            "Epoch 77/100\n",
            "10/10 [==============================] - 1s 59ms/step - loss: 0.0017 - accuracy: 1.0000 - recall_7: 1.0000 - val_loss: 0.7605 - val_accuracy: 0.8701 - val_recall_7: 1.0000\n",
            "Epoch 78/100\n",
            "10/10 [==============================] - 1s 72ms/step - loss: 0.0017 - accuracy: 1.0000 - recall_7: 1.0000 - val_loss: 0.7581 - val_accuracy: 0.8831 - val_recall_7: 1.0000\n",
            "Epoch 79/100\n",
            "10/10 [==============================] - 1s 63ms/step - loss: 0.0017 - accuracy: 1.0000 - recall_7: 1.0000 - val_loss: 0.7561 - val_accuracy: 0.8831 - val_recall_7: 1.0000\n",
            "Epoch 80/100\n",
            "10/10 [==============================] - 1s 69ms/step - loss: 0.0016 - accuracy: 1.0000 - recall_7: 1.0000 - val_loss: 0.7724 - val_accuracy: 0.8701 - val_recall_7: 1.0000\n",
            "Epoch 81/100\n",
            "10/10 [==============================] - 1s 63ms/step - loss: 0.0016 - accuracy: 1.0000 - recall_7: 1.0000 - val_loss: 0.7745 - val_accuracy: 0.8701 - val_recall_7: 1.0000\n",
            "Epoch 82/100\n",
            "10/10 [==============================] - 1s 60ms/step - loss: 0.0016 - accuracy: 1.0000 - recall_7: 1.0000 - val_loss: 0.7724 - val_accuracy: 0.8701 - val_recall_7: 1.0000\n",
            "Epoch 83/100\n",
            "10/10 [==============================] - 1s 64ms/step - loss: 0.0015 - accuracy: 1.0000 - recall_7: 1.0000 - val_loss: 0.7577 - val_accuracy: 0.8831 - val_recall_7: 1.0000\n",
            "Epoch 84/100\n",
            "10/10 [==============================] - 1s 72ms/step - loss: 0.0015 - accuracy: 1.0000 - recall_7: 1.0000 - val_loss: 0.7684 - val_accuracy: 0.8831 - val_recall_7: 1.0000\n",
            "Epoch 85/100\n",
            "10/10 [==============================] - 1s 64ms/step - loss: 0.0015 - accuracy: 1.0000 - recall_7: 1.0000 - val_loss: 0.7719 - val_accuracy: 0.8831 - val_recall_7: 1.0000\n",
            "Epoch 86/100\n",
            "10/10 [==============================] - 1s 70ms/step - loss: 0.0014 - accuracy: 1.0000 - recall_7: 1.0000 - val_loss: 0.7851 - val_accuracy: 0.8701 - val_recall_7: 1.0000\n",
            "Epoch 87/100\n",
            "10/10 [==============================] - 1s 70ms/step - loss: 0.0014 - accuracy: 1.0000 - recall_7: 1.0000 - val_loss: 0.7795 - val_accuracy: 0.8701 - val_recall_7: 1.0000\n",
            "Epoch 88/100\n",
            "10/10 [==============================] - 1s 69ms/step - loss: 0.0014 - accuracy: 1.0000 - recall_7: 1.0000 - val_loss: 0.7717 - val_accuracy: 0.8701 - val_recall_7: 1.0000\n",
            "Epoch 89/100\n",
            "10/10 [==============================] - 1s 63ms/step - loss: 0.0014 - accuracy: 1.0000 - recall_7: 1.0000 - val_loss: 0.7816 - val_accuracy: 0.8701 - val_recall_7: 1.0000\n",
            "Epoch 90/100\n",
            "10/10 [==============================] - 1s 71ms/step - loss: 0.0014 - accuracy: 1.0000 - recall_7: 1.0000 - val_loss: 0.7863 - val_accuracy: 0.8701 - val_recall_7: 1.0000\n",
            "Epoch 91/100\n",
            "10/10 [==============================] - 1s 64ms/step - loss: 0.0013 - accuracy: 1.0000 - recall_7: 1.0000 - val_loss: 0.7859 - val_accuracy: 0.8701 - val_recall_7: 1.0000\n",
            "Epoch 92/100\n",
            "10/10 [==============================] - 1s 75ms/step - loss: 0.0013 - accuracy: 1.0000 - recall_7: 1.0000 - val_loss: 0.7879 - val_accuracy: 0.8701 - val_recall_7: 1.0000\n",
            "Epoch 93/100\n",
            "10/10 [==============================] - 1s 75ms/step - loss: 0.0013 - accuracy: 1.0000 - recall_7: 1.0000 - val_loss: 0.7929 - val_accuracy: 0.8831 - val_recall_7: 1.0000\n",
            "Epoch 94/100\n",
            "10/10 [==============================] - 1s 61ms/step - loss: 0.0013 - accuracy: 1.0000 - recall_7: 1.0000 - val_loss: 0.7874 - val_accuracy: 0.8831 - val_recall_7: 1.0000\n",
            "Epoch 95/100\n",
            "10/10 [==============================] - 1s 72ms/step - loss: 0.0013 - accuracy: 1.0000 - recall_7: 1.0000 - val_loss: 0.7821 - val_accuracy: 0.8831 - val_recall_7: 1.0000\n",
            "Epoch 96/100\n",
            "10/10 [==============================] - 1s 63ms/step - loss: 0.0012 - accuracy: 1.0000 - recall_7: 1.0000 - val_loss: 0.7980 - val_accuracy: 0.8701 - val_recall_7: 1.0000\n",
            "Epoch 97/100\n",
            "10/10 [==============================] - 1s 63ms/step - loss: 0.0012 - accuracy: 1.0000 - recall_7: 1.0000 - val_loss: 0.8035 - val_accuracy: 0.8701 - val_recall_7: 1.0000\n",
            "Epoch 98/100\n",
            "10/10 [==============================] - 1s 64ms/step - loss: 0.0012 - accuracy: 1.0000 - recall_7: 1.0000 - val_loss: 0.8016 - val_accuracy: 0.8831 - val_recall_7: 1.0000\n",
            "Epoch 99/100\n",
            "10/10 [==============================] - 1s 71ms/step - loss: 0.0012 - accuracy: 1.0000 - recall_7: 1.0000 - val_loss: 0.7993 - val_accuracy: 0.8701 - val_recall_7: 1.0000\n",
            "Epoch 100/100\n",
            "10/10 [==============================] - 1s 64ms/step - loss: 0.0011 - accuracy: 1.0000 - recall_7: 1.0000 - val_loss: 0.8019 - val_accuracy: 0.8701 - val_recall_7: 1.0000\n"
          ]
        },
        {
          "output_type": "display_data",
          "data": {
            "image/png": "[encoded data removed]",
            "text/plain": [
              "<Figure size 432x288 with 1 Axes>"
            ]
          },
          "metadata": {
            "needs_background": "light"
          }
        },
        {
          "output_type": "display_data",
          "data": {
            "image/png": "[encoded data removed]",
            "text/plain": [
              "<Figure size 432x288 with 1 Axes>"
            ]
          },
          "metadata": {
            "needs_background": "light"
          }
        },
        {
          "output_type": "display_data",
          "data": {
            "image/png": "[encoded data removed]",
            "text/plain": [
              "<Figure size 432x288 with 1 Axes>"
            ]
          },
          "metadata": {
            "needs_background": "light"
          }
        },
        {
          "output_type": "stream",
          "name": "stdout",
          "text": [
            "\n",
            "\n",
            "\n",
            "Confusion Matrix:\n",
            " [[0.53246753 0.12987013]\n",
            " [0.         0.33766234]]\n",
            "\n",
            "\n"
          ]
        },
        {
          "output_type": "display_data",
          "data": {
            "image/png": "[encoded data removed]",
            "text/plain": [
              "<Figure size 432x288 with 2 Axes>"
            ]
          },
          "metadata": {
            "needs_background": "light"
          }
        }
      ],
      "source": [
        "X_Train , X_Valid , Y_Train , Y_Valid = train_test_split( Inputs , Labels , test_size= 0.2 , shuffle = True , random_state = 13 )\n",
        "\n",
        "History = My_Model.fit(X_Train , Y_Train, epochs = 100 ,validation_data = (X_Valid ,Y_Valid) )\n",
        "plt.plot(History.history['loss'] , label='Train Loss')\n",
        "plt.xlabel('Epoch')\n",
        "plt.ylabel('Train Loss')\n",
        "plt.show()\n",
        "\n",
        "plt.plot(History.history['accuracy'], label='Train Accuracy')\n",
        "plt.xlabel('Epoch')\n",
        "plt.ylabel('Train Accuracy')\n",
        "plt.show()\n",
        "\n",
        "plt.plot(History.history['val_accuracy'], label = 'Validation Accuracy')\n",
        "plt.ylabel('Validation Accuracy')\n",
        "plt.xlabel('Epoch')\n",
        "plt.show()\n",
        "\n",
        "print(\"\\n\\n\")\n",
        "\n",
        "Conf_mat =  confusion_matrix (Y_Valid, np.round(My_Model.predict(X_Valid)) ,  normalize='all') \n",
        "print('Confusion Matrix:\\n', Conf_mat)\n",
        "\n",
        "disp = ConfusionMatrixDisplay(confusion_matrix=Conf_mat , display_labels=[0 , 1])\n",
        "disp.plot()\n",
        "print(\"\\n\")\n",
        "plt.show()\n"
      ]
    },
    {
      "cell_type": "code",
      "source": [
        "score = My_Model.evaluate(X_Valid, Y_Valid, verbose = 0)\n",
        "print('Valid loss:', score[0])\n",
        "print('Valid accuracy:', score[1])\n",
        "\n",
        "f1 = 2 * ( (History.history['val_recall_7'][-1] * History.history['val_accuracy'][-1] ) / ( History.history['val_recall_7'][-1] + History.history['val_accuracy'][-1]) )\n",
        "print(f\"f1_Score On Valid = {f1}\")\n"
      ],
      "metadata": {
        "id": "g7m07XbmGWJM",
        "outputId": "1f879dd2-6127-4801-f4f3-7548524a5e78",
        "colab": {
          "base_uri": "https://localhost:8080/"
        }
      },
      "execution_count": null,
      "outputs": [
        {
          "output_type": "stream",
          "name": "stdout",
          "text": [
            "Valid loss: 0.8019298911094666\n",
            "Valid accuracy: 0.8701298832893372\n",
            "f1_Score On Valid = 0.9305555630808718\n"
          ]
        }
      ]
    }
  ],
  "metadata": {
    "accelerator": "GPU",
    "colab": {
      "collapsed_sections": [],
      "provenance": []
    },
    "kernelspec": {
      "display_name": "Python 3",
      "name": "python3"
    },
    "language_info": {
      "name": "python"
    }
  },
  "nbformat": 4,
  "nbformat_minor": 0
}